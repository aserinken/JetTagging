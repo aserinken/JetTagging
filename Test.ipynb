{
 "cells": [
  {
   "cell_type": "code",
   "execution_count": 1,
   "id": "2fb7b7fe",
   "metadata": {},
   "outputs": [
    {
     "name": "stdout",
     "output_type": "stream",
     "text": [
      "CPU times: user 1.14 s, sys: 163 ms, total: 1.3 s\n",
      "Wall time: 1.88 s\n"
     ]
    }
   ],
   "source": [
    "%%time\n",
    "import pickle, uproot\n",
    "import pandas as pd\n",
    "import numpy as np\n",
    "import awkward as ak\n",
    "\n",
    "import matplotlib as mpl\n",
    "import matplotlib.pyplot as plt\n",
    "from matplotlib.colors import LogNorm"
   ]
  },
  {
   "cell_type": "code",
   "execution_count": 45,
   "id": "4f872435",
   "metadata": {},
   "outputs": [],
   "source": [
    "fname_HCC_M20 = \"/eos/cms/store/cmst3/group/l1tr/gpetrucc/fatjets/fatJetNTuple_MSSM_Hcc_M20_Pt100_PU200.125X_v0.0.root\"\n",
    "f_HCC_M20 = uproot.open(fname_HCC_M20)"
   ]
  },
  {
   "cell_type": "code",
   "execution_count": 50,
   "id": "445a561b",
   "metadata": {},
   "outputs": [
    {
     "name": "stdout",
     "output_type": "stream",
     "text": [
      "[{GenTruth: [{pt: 104}, {pt: 73.8}, {pt: 31.6, ... pt: 172}, {pt: 19.3}, {pt: 153}]}]\n"
     ]
    },
    {
     "data": {
      "text/plain": [
       "['GenTruth']"
      ]
     },
     "execution_count": 50,
     "metadata": {},
     "output_type": "execute_result"
    }
   ],
   "source": [
    "data_HCC_M20 = f_HCC_M20[\"Events\"].arrays(filter_name = \"/(GenTruth_pt)/\", \n",
    "#     entry_stop = 1e1, \n",
    "    how = \"zip\")\n",
    "#Mother_pt = data_HCC\n",
    "print(data_HCC_M20)\n",
    "data_HCC_M20.fields"
   ]
  },
  {
   "cell_type": "code",
   "execution_count": 36,
   "id": "80c9d89e",
   "metadata": {},
   "outputs": [
    {
     "ename": "NameError",
     "evalue": "name 'data_bkg' is not defined",
     "output_type": "error",
     "traceback": [
      "\u001b[0;31m---------------------------------------------------------------------------\u001b[0m",
      "\u001b[0;31mNameError\u001b[0m                                 Traceback (most recent call last)",
      "\u001b[0;32m/tmp/ipykernel_647/3255673775.py\u001b[0m in \u001b[0;36m<module>\u001b[0;34m\u001b[0m\n\u001b[1;32m      2\u001b[0m     \u001b[0mplt\u001b[0m\u001b[0;34m.\u001b[0m\u001b[0mfigure\u001b[0m\u001b[0;34m(\u001b[0m\u001b[0;34m)\u001b[0m\u001b[0;31m#figsize = (8,4))\u001b[0m\u001b[0;34m\u001b[0m\u001b[0;34m\u001b[0m\u001b[0m\n\u001b[1;32m      3\u001b[0m \u001b[0;34m\u001b[0m\u001b[0m\n\u001b[0;32m----> 4\u001b[0;31m     \u001b[0;32mfor\u001b[0m \u001b[0mlabel\u001b[0m\u001b[0;34m,\u001b[0m \u001b[0mdata\u001b[0m \u001b[0;32min\u001b[0m \u001b[0mzip\u001b[0m\u001b[0;34m(\u001b[0m\u001b[0;34m[\u001b[0m\u001b[0;34m\"bkg\"\u001b[0m\u001b[0;34m,\u001b[0m\u001b[0;34m\"sig\"\u001b[0m\u001b[0;34m]\u001b[0m\u001b[0;34m,\u001b[0m \u001b[0;34m[\u001b[0m\u001b[0mdata_bkg\u001b[0m\u001b[0;34m,\u001b[0m \u001b[0mdata_sig\u001b[0m\u001b[0;34m]\u001b[0m\u001b[0;34m)\u001b[0m\u001b[0;34m:\u001b[0m\u001b[0;34m\u001b[0m\u001b[0;34m\u001b[0m\u001b[0m\n\u001b[0m\u001b[1;32m      5\u001b[0m         \u001b[0mnum\u001b[0m \u001b[0;34m=\u001b[0m \u001b[0mak\u001b[0m\u001b[0;34m.\u001b[0m\u001b[0mnum\u001b[0m\u001b[0;34m(\u001b[0m\u001b[0mdata\u001b[0m\u001b[0;34m[\u001b[0m\u001b[0mobj\u001b[0m\u001b[0;34m]\u001b[0m\u001b[0;34m)\u001b[0m\u001b[0;34m\u001b[0m\u001b[0;34m\u001b[0m\u001b[0m\n\u001b[1;32m      6\u001b[0m         plt.hist(num, label = label, bins = range(13), density = True, \n",
      "\u001b[0;31mNameError\u001b[0m: name 'data_bkg' is not defined"
     ]
    },
    {
     "data": {
      "text/plain": [
       "<Figure size 432x288 with 0 Axes>"
      ]
     },
     "metadata": {},
     "output_type": "display_data"
    }
   ],
   "source": [
    "for obj in [ 'GenTruth_pt']:\n",
    "    plt.figure()#figsize = (8,4))\n",
    "\n",
    "    for label, data in zip([\"bkg\",\"sig\"], [data_bkg, data_sig]):\n",
    "        num = ak.num(data[obj])\n",
    "        plt.hist(num, label = label, bins = range(13), density = True, \n",
    "                 #log = True, \n",
    "                 histtype = \"step\")\n",
    "        \n",
    "    plt.xlabel(f\"N of {obj}\")\n",
    "    plt.legend()"
   ]
  },
  {
   "cell_type": "code",
   "execution_count": null,
   "id": "4f913b4a",
   "metadata": {},
   "outputs": [],
   "source": []
  }
 ],
 "metadata": {
  "kernelspec": {
   "display_name": "Python 3",
   "language": "python",
   "name": "python3"
  },
  "language_info": {
   "codemirror_mode": {
    "name": "ipython",
    "version": 3
   },
   "file_extension": ".py",
   "mimetype": "text/x-python",
   "name": "python",
   "nbconvert_exporter": "python",
   "pygments_lexer": "ipython3",
   "version": "3.9.12"
  }
 },
 "nbformat": 4,
 "nbformat_minor": 5
}
